{
 "cells": [
  {
   "cell_type": "code",
   "execution_count": 241,
   "metadata": {},
   "outputs": [],
   "source": [
    "from typing import List\n",
    "import serial\n",
    "import time\n",
    "import numpy as np\n",
    "\n",
    "# Change your usb name here (ex. /dev/ttyUSB0)\n",
    "serial.Serial()\n",
    "class Ring:\n",
    "    def __init__(self, port = 'COM3', baud = 115200, timeout = 0.1):\n",
    "\n",
    "        self._serial = serial.Serial(port, baud, timeout = timeout)\n",
    "        self._buf = bytearray(b'')\n",
    "        self._msg = bytearray(b'')\n",
    "        self._range_datatype_len = 2\n",
    "        self._clock_datatype_len = 4\n",
    "\n",
    "        self.measurements = [[]]\n",
    "\n",
    "    def close(self):\n",
    "        self._serial.close()\n",
    "\n",
    "\n",
    "    def process(self) -> List[List[float]]:\n",
    "\n",
    "        self.measurements = [[]]\n",
    "\n",
    "        self._buf += self._serial.read(self._serial.in_waiting)\n",
    "        \n",
    "        while ((len(self._buf)) >= 3):\n",
    "            if ((self._buf[0] == 0xFF) and (self._buf[1] == 0xFF)):\n",
    "                # btarr[0] and btarr[1] is 0xFF starting bytes\n",
    "                packet_length = self._buf[2] + 2\n",
    "                if (len(self._buf) >= packet_length):\n",
    "\n",
    "                    if (len(self.measurements[0]) == 0):\n",
    "                        msg_num = 0\n",
    "                        total_len = len(self._buf)\n",
    "\n",
    "                    self._msg = self._buf[0:packet_length]\n",
    "                    self._buf = self._buf[packet_length:]\n",
    "                    sensors_num = self._msg[3]\n",
    "                    data_length = self._range_datatype_len * sensors_num\n",
    "                    \n",
    "                    if (data_length > packet_length):\n",
    "                        print(\"Too long message! Skip measurement.\")\n",
    "                        self._buf = self._buf[data_length:]\n",
    "                    else:\n",
    "                        crc = 0\n",
    "                        for i in range(2, data_length + self._clock_datatype_len + 3):\n",
    "                            crc = (crc + self._msg[i]) & 0xFF\n",
    "                        crc = ~(crc & 0xFF) & 0xFF\n",
    "\n",
    "                        if (crc == (self._msg[-1] & 0xFF)):\n",
    "                            \n",
    "                            if (len(self.measurements[0]) == 0):\n",
    "                                self.measurements = [[0]*(sensors_num + 1) for _ in range((total_len // packet_length))]\n",
    "\n",
    "                            ranges = [0] * sensors_num\n",
    "\n",
    "                            for i in range(sensors_num):\n",
    "                                for j in range(self._range_datatype_len):\n",
    "                                    ranges[i] += float(self._msg[4+2*i+j] << 8*j)\n",
    "\n",
    "                            clock = 0.0\n",
    "                            for i in range(self._clock_datatype_len):\n",
    "                                clock += float(self._msg[4+data_length+i] << 8*i)\n",
    "\n",
    "                            for i in range(sensors_num):\n",
    "                                self.measurements[msg_num][i] = ranges[i]\n",
    "\n",
    "                            self.measurements[msg_num][-1] = clock\n",
    "                            msg_num += 1\n",
    "                            #print(\"fine message: \" + f'Packet length {packet_length}, sensors_num {sensors_num}, ranges = {ranges[0]}, {ranges[1]}; clock_ms = {clock}') \n",
    "                     \n",
    "                        else:\n",
    "                            print(\"Corrupted message! Skip measurement.\")\n",
    "                            self._buf = self._buf[(data_length + self._clock_datatype_len + 3):]\n",
    "                else:\n",
    "                   return self.measurements\n",
    "\n",
    "            else:\n",
    "                self._buf = self._buf[1:]\n",
    "            \n",
    "        return self.measurements\n",
    "\n",
    "    def readMeasurements() -> List[int]:\n",
    "        pass\n",
    "\n"
   ]
  },
  {
   "cell_type": "code",
   "execution_count": 265,
   "metadata": {},
   "outputs": [],
   "source": [
    "right_half = Ring(port = 'COM3', baud = 115200, timeout = 0.1)\n",
    "#left_half = Ring(port = 'COM4', baud = 115200, timeout = 0.1)"
   ]
  },
  {
   "cell_type": "code",
   "execution_count": null,
   "metadata": {},
   "outputs": [],
   "source": [
    "i = 0\n",
    "right_half.process()\n",
    "#left_half.process()"
   ]
  },
  {
   "cell_type": "code",
   "execution_count": 264,
   "metadata": {},
   "outputs": [],
   "source": [
    "right_half.close()"
   ]
  }
 ],
 "metadata": {
  "kernelspec": {
   "display_name": "Python 3.10.2 64-bit",
   "language": "python",
   "name": "python3"
  },
  "language_info": {
   "codemirror_mode": {
    "name": "ipython",
    "version": 3
   },
   "file_extension": ".py",
   "mimetype": "text/x-python",
   "name": "python",
   "nbconvert_exporter": "python",
   "pygments_lexer": "ipython3",
   "version": "3.10.2"
  },
  "vscode": {
   "interpreter": {
    "hash": "fb4569285eef3a3450cb62085a5b1e0da4bce0af555edc33dcf29baf3acc1368"
   }
  }
 },
 "nbformat": 4,
 "nbformat_minor": 2
}
