{
 "cells": [
  {
   "cell_type": "code",
   "execution_count": 63,
   "metadata": {},
   "outputs": [],
   "source": [
    "import math\n",
    "import os\n",
    "\n",
    "from model.volume import calculate_volume"
   ]
  },
  {
   "cell_type": "code",
   "execution_count": 56,
   "metadata": {},
   "outputs": [],
   "source": [
    "PROJECT_DIR = os.path.dirname(os.getcwd())"
   ]
  },
  {
   "cell_type": "code",
   "execution_count": 57,
   "metadata": {},
   "outputs": [],
   "source": [
    "scan_num = 0\n",
    "\n",
    "scan_filename = os.path.join(\n",
    "    PROJECT_DIR,\n",
    "    'data',\n",
    "    'scans',\n",
    "    f'scan_{str(scan_num).zfill(3)}.txt',\n",
    ")\n",
    "\n",
    "scan_len_filename = os.path.join(\n",
    "    PROJECT_DIR,\n",
    "    'data',\n",
    "    'scans',\n",
    "    f'scan_len_{str(scan_num).zfill(3)}.txt',\n",
    ")"
   ]
  },
  {
   "cell_type": "markdown",
   "metadata": {},
   "source": [
    "Read data from `scan.txt` and `scan_len.txt`"
   ]
  },
  {
   "cell_type": "code",
   "execution_count": 58,
   "metadata": {},
   "outputs": [],
   "source": [
    "scans = []\n",
    "scans_len = []\n",
    "\n",
    "with open(scan_filename, 'r') as scans_file:\n",
    "    for line in scans_file:\n",
    "        scan = list(map(float, line.split()))\n",
    "        scans.append(scan)\n",
    "\n",
    "with open(scan_len_filename, 'r') as scans_len_file:\n",
    "    scans_len = list(map(float, scans_len_file.readline().split()))"
   ]
  },
  {
   "cell_type": "markdown",
   "metadata": {},
   "source": [
    "Adjust linear speed"
   ]
  },
  {
   "cell_type": "code",
   "execution_count": 61,
   "metadata": {},
   "outputs": [],
   "source": [
    "BASE_LINEAR_SPEED = 0.1\n",
    "NEW_LINEAR_SPEED = 36.8\n",
    "\n",
    "k = NEW_LINEAR_SPEED / BASE_LINEAR_SPEED\n",
    "scans_len_k = [k * l for l in scans_len]"
   ]
  },
  {
   "cell_type": "code",
   "execution_count": 62,
   "metadata": {},
   "outputs": [
    {
     "data": {
      "text/plain": [
       "1446.3470423331435"
      ]
     },
     "execution_count": 62,
     "metadata": {},
     "output_type": "execute_result"
    }
   ],
   "source": [
    "volume = 1e-6 * calculate_volume(scans, scans_len_k)\n",
    "volume"
   ]
  },
  {
   "cell_type": "code",
   "execution_count": 66,
   "metadata": {},
   "outputs": [
    {
     "data": {
      "text/plain": [
       "1447.6458947741767"
      ]
     },
     "execution_count": 66,
     "metadata": {},
     "output_type": "execute_result"
    }
   ],
   "source": [
    "# cm\n",
    "real_d = 9.6\n",
    "real_l = 20\n",
    "\n",
    "real_volume = math.pi * real_l * real_d ** 2 / 4\n",
    "real_volume"
   ]
  },
  {
   "cell_type": "code",
   "execution_count": null,
   "metadata": {},
   "outputs": [],
   "source": []
  }
 ],
 "metadata": {
  "kernelspec": {
   "display_name": "Python 3.10.5 ('venv': venv)",
   "language": "python",
   "name": "python3"
  },
  "language_info": {
   "codemirror_mode": {
    "name": "ipython",
    "version": 3
   },
   "file_extension": ".py",
   "mimetype": "text/x-python",
   "name": "python",
   "nbconvert_exporter": "python",
   "pygments_lexer": "ipython3",
   "version": "3.10.5"
  },
  "orig_nbformat": 4,
  "vscode": {
   "interpreter": {
    "hash": "b39d0fda4f9a034fe4a9bf5dd6e389febd8770c8960c6cb5bcc7f2416a56b950"
   }
  }
 },
 "nbformat": 4,
 "nbformat_minor": 2
}
